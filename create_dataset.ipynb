{
  "nbformat": 4,
  "nbformat_minor": 0,
  "metadata": {
    "colab": {
      "provenance": []
    },
    "kernelspec": {
      "name": "python3",
      "display_name": "Python 3"
    },
    "language_info": {
      "name": "python"
    },
    "accelerator": "GPU",
    "gpuClass": "standard",
    "widgets": {
      "application/vnd.jupyter.widget-state+json": {
        "ef90e25d6d04489c89898b20c40a28d3": {
          "model_module": "@jupyter-widgets/controls",
          "model_name": "HBoxModel",
          "model_module_version": "1.5.0",
          "state": {
            "_dom_classes": [],
            "_model_module": "@jupyter-widgets/controls",
            "_model_module_version": "1.5.0",
            "_model_name": "HBoxModel",
            "_view_count": null,
            "_view_module": "@jupyter-widgets/controls",
            "_view_module_version": "1.5.0",
            "_view_name": "HBoxView",
            "box_style": "",
            "children": [
              "IPY_MODEL_d269f8d7a2684f8198278ba5944c1d14",
              "IPY_MODEL_46d1705430c34a079f0407844402c6c1",
              "IPY_MODEL_fca7f1e35abd450a8b6cd99532a0d718"
            ],
            "layout": "IPY_MODEL_a34596d810f54cbe9fb66fae7c96d18b"
          }
        },
        "d269f8d7a2684f8198278ba5944c1d14": {
          "model_module": "@jupyter-widgets/controls",
          "model_name": "HTMLModel",
          "model_module_version": "1.5.0",
          "state": {
            "_dom_classes": [],
            "_model_module": "@jupyter-widgets/controls",
            "_model_module_version": "1.5.0",
            "_model_name": "HTMLModel",
            "_view_count": null,
            "_view_module": "@jupyter-widgets/controls",
            "_view_module_version": "1.5.0",
            "_view_name": "HTMLView",
            "description": "",
            "description_tooltip": null,
            "layout": "IPY_MODEL_ef5692ed30064f48b9f65bd2c511b732",
            "placeholder": "​",
            "style": "IPY_MODEL_9cd7a80710f54bc2b56e04cf8e291f2f",
            "value": "100%"
          }
        },
        "46d1705430c34a079f0407844402c6c1": {
          "model_module": "@jupyter-widgets/controls",
          "model_name": "FloatProgressModel",
          "model_module_version": "1.5.0",
          "state": {
            "_dom_classes": [],
            "_model_module": "@jupyter-widgets/controls",
            "_model_module_version": "1.5.0",
            "_model_name": "FloatProgressModel",
            "_view_count": null,
            "_view_module": "@jupyter-widgets/controls",
            "_view_module_version": "1.5.0",
            "_view_name": "ProgressView",
            "bar_style": "success",
            "description": "",
            "description_tooltip": null,
            "layout": "IPY_MODEL_67cb7f0ad780490a994a2165f7962807",
            "max": 1,
            "min": 0,
            "orientation": "horizontal",
            "style": "IPY_MODEL_cc22fc3cdc8549ef87275417bf112d13",
            "value": 1
          }
        },
        "fca7f1e35abd450a8b6cd99532a0d718": {
          "model_module": "@jupyter-widgets/controls",
          "model_name": "HTMLModel",
          "model_module_version": "1.5.0",
          "state": {
            "_dom_classes": [],
            "_model_module": "@jupyter-widgets/controls",
            "_model_module_version": "1.5.0",
            "_model_name": "HTMLModel",
            "_view_count": null,
            "_view_module": "@jupyter-widgets/controls",
            "_view_module_version": "1.5.0",
            "_view_name": "HTMLView",
            "description": "",
            "description_tooltip": null,
            "layout": "IPY_MODEL_a1ada21990a042c58eab13fc8a00f972",
            "placeholder": "​",
            "style": "IPY_MODEL_2ba37ce59bc9478b87077f214c3afb8b",
            "value": " 1/1 [00:00&lt;00:00, 27.30it/s]"
          }
        },
        "a34596d810f54cbe9fb66fae7c96d18b": {
          "model_module": "@jupyter-widgets/base",
          "model_name": "LayoutModel",
          "model_module_version": "1.2.0",
          "state": {
            "_model_module": "@jupyter-widgets/base",
            "_model_module_version": "1.2.0",
            "_model_name": "LayoutModel",
            "_view_count": null,
            "_view_module": "@jupyter-widgets/base",
            "_view_module_version": "1.2.0",
            "_view_name": "LayoutView",
            "align_content": null,
            "align_items": null,
            "align_self": null,
            "border": null,
            "bottom": null,
            "display": null,
            "flex": null,
            "flex_flow": null,
            "grid_area": null,
            "grid_auto_columns": null,
            "grid_auto_flow": null,
            "grid_auto_rows": null,
            "grid_column": null,
            "grid_gap": null,
            "grid_row": null,
            "grid_template_areas": null,
            "grid_template_columns": null,
            "grid_template_rows": null,
            "height": null,
            "justify_content": null,
            "justify_items": null,
            "left": null,
            "margin": null,
            "max_height": null,
            "max_width": null,
            "min_height": null,
            "min_width": null,
            "object_fit": null,
            "object_position": null,
            "order": null,
            "overflow": null,
            "overflow_x": null,
            "overflow_y": null,
            "padding": null,
            "right": null,
            "top": null,
            "visibility": null,
            "width": null
          }
        },
        "ef5692ed30064f48b9f65bd2c511b732": {
          "model_module": "@jupyter-widgets/base",
          "model_name": "LayoutModel",
          "model_module_version": "1.2.0",
          "state": {
            "_model_module": "@jupyter-widgets/base",
            "_model_module_version": "1.2.0",
            "_model_name": "LayoutModel",
            "_view_count": null,
            "_view_module": "@jupyter-widgets/base",
            "_view_module_version": "1.2.0",
            "_view_name": "LayoutView",
            "align_content": null,
            "align_items": null,
            "align_self": null,
            "border": null,
            "bottom": null,
            "display": null,
            "flex": null,
            "flex_flow": null,
            "grid_area": null,
            "grid_auto_columns": null,
            "grid_auto_flow": null,
            "grid_auto_rows": null,
            "grid_column": null,
            "grid_gap": null,
            "grid_row": null,
            "grid_template_areas": null,
            "grid_template_columns": null,
            "grid_template_rows": null,
            "height": null,
            "justify_content": null,
            "justify_items": null,
            "left": null,
            "margin": null,
            "max_height": null,
            "max_width": null,
            "min_height": null,
            "min_width": null,
            "object_fit": null,
            "object_position": null,
            "order": null,
            "overflow": null,
            "overflow_x": null,
            "overflow_y": null,
            "padding": null,
            "right": null,
            "top": null,
            "visibility": null,
            "width": null
          }
        },
        "9cd7a80710f54bc2b56e04cf8e291f2f": {
          "model_module": "@jupyter-widgets/controls",
          "model_name": "DescriptionStyleModel",
          "model_module_version": "1.5.0",
          "state": {
            "_model_module": "@jupyter-widgets/controls",
            "_model_module_version": "1.5.0",
            "_model_name": "DescriptionStyleModel",
            "_view_count": null,
            "_view_module": "@jupyter-widgets/base",
            "_view_module_version": "1.2.0",
            "_view_name": "StyleView",
            "description_width": ""
          }
        },
        "67cb7f0ad780490a994a2165f7962807": {
          "model_module": "@jupyter-widgets/base",
          "model_name": "LayoutModel",
          "model_module_version": "1.2.0",
          "state": {
            "_model_module": "@jupyter-widgets/base",
            "_model_module_version": "1.2.0",
            "_model_name": "LayoutModel",
            "_view_count": null,
            "_view_module": "@jupyter-widgets/base",
            "_view_module_version": "1.2.0",
            "_view_name": "LayoutView",
            "align_content": null,
            "align_items": null,
            "align_self": null,
            "border": null,
            "bottom": null,
            "display": null,
            "flex": null,
            "flex_flow": null,
            "grid_area": null,
            "grid_auto_columns": null,
            "grid_auto_flow": null,
            "grid_auto_rows": null,
            "grid_column": null,
            "grid_gap": null,
            "grid_row": null,
            "grid_template_areas": null,
            "grid_template_columns": null,
            "grid_template_rows": null,
            "height": null,
            "justify_content": null,
            "justify_items": null,
            "left": null,
            "margin": null,
            "max_height": null,
            "max_width": null,
            "min_height": null,
            "min_width": null,
            "object_fit": null,
            "object_position": null,
            "order": null,
            "overflow": null,
            "overflow_x": null,
            "overflow_y": null,
            "padding": null,
            "right": null,
            "top": null,
            "visibility": null,
            "width": null
          }
        },
        "cc22fc3cdc8549ef87275417bf112d13": {
          "model_module": "@jupyter-widgets/controls",
          "model_name": "ProgressStyleModel",
          "model_module_version": "1.5.0",
          "state": {
            "_model_module": "@jupyter-widgets/controls",
            "_model_module_version": "1.5.0",
            "_model_name": "ProgressStyleModel",
            "_view_count": null,
            "_view_module": "@jupyter-widgets/base",
            "_view_module_version": "1.2.0",
            "_view_name": "StyleView",
            "bar_color": null,
            "description_width": ""
          }
        },
        "a1ada21990a042c58eab13fc8a00f972": {
          "model_module": "@jupyter-widgets/base",
          "model_name": "LayoutModel",
          "model_module_version": "1.2.0",
          "state": {
            "_model_module": "@jupyter-widgets/base",
            "_model_module_version": "1.2.0",
            "_model_name": "LayoutModel",
            "_view_count": null,
            "_view_module": "@jupyter-widgets/base",
            "_view_module_version": "1.2.0",
            "_view_name": "LayoutView",
            "align_content": null,
            "align_items": null,
            "align_self": null,
            "border": null,
            "bottom": null,
            "display": null,
            "flex": null,
            "flex_flow": null,
            "grid_area": null,
            "grid_auto_columns": null,
            "grid_auto_flow": null,
            "grid_auto_rows": null,
            "grid_column": null,
            "grid_gap": null,
            "grid_row": null,
            "grid_template_areas": null,
            "grid_template_columns": null,
            "grid_template_rows": null,
            "height": null,
            "justify_content": null,
            "justify_items": null,
            "left": null,
            "margin": null,
            "max_height": null,
            "max_width": null,
            "min_height": null,
            "min_width": null,
            "object_fit": null,
            "object_position": null,
            "order": null,
            "overflow": null,
            "overflow_x": null,
            "overflow_y": null,
            "padding": null,
            "right": null,
            "top": null,
            "visibility": null,
            "width": null
          }
        },
        "2ba37ce59bc9478b87077f214c3afb8b": {
          "model_module": "@jupyter-widgets/controls",
          "model_name": "DescriptionStyleModel",
          "model_module_version": "1.5.0",
          "state": {
            "_model_module": "@jupyter-widgets/controls",
            "_model_module_version": "1.5.0",
            "_model_name": "DescriptionStyleModel",
            "_view_count": null,
            "_view_module": "@jupyter-widgets/base",
            "_view_module_version": "1.2.0",
            "_view_name": "StyleView",
            "description_width": ""
          }
        },
        "4fd8fd43403844f9947088c21f8de2f3": {
          "model_module": "@jupyter-widgets/output",
          "model_name": "OutputModel",
          "model_module_version": "1.0.0",
          "state": {
            "_dom_classes": [],
            "_model_module": "@jupyter-widgets/output",
            "_model_module_version": "1.0.0",
            "_model_name": "OutputModel",
            "_view_count": null,
            "_view_module": "@jupyter-widgets/output",
            "_view_module_version": "1.0.0",
            "_view_name": "OutputView",
            "layout": "IPY_MODEL_0f83ec6b2dba4bbe81ad20274e0e6218",
            "msg_id": "",
            "outputs": [
              {
                "output_type": "display_data",
                "data": {
                  "text/plain": "Logging... \u001b[38;5;237m━━━━━━━━━━━━━━━━━━━━━━━━━━━━━━━━━━━━━━━━\u001b[0m \u001b[35m  0%\u001b[0m \u001b[36m-:--:--\u001b[0m\n",
                  "text/html": "<pre style=\"white-space:pre;overflow-x:auto;line-height:normal;font-family:Menlo,'DejaVu Sans Mono',consolas,'Courier New',monospace\">Logging... <span style=\"color: #3a3a3a; text-decoration-color: #3a3a3a\">━━━━━━━━━━━━━━━━━━━━━━━━━━━━━━━━━━━━━━━━</span> <span style=\"color: #800080; text-decoration-color: #800080\">  0%</span> <span style=\"color: #008080; text-decoration-color: #008080\">-:--:--</span>\n</pre>\n"
                },
                "metadata": {}
              }
            ]
          }
        },
        "0f83ec6b2dba4bbe81ad20274e0e6218": {
          "model_module": "@jupyter-widgets/base",
          "model_name": "LayoutModel",
          "model_module_version": "1.2.0",
          "state": {
            "_model_module": "@jupyter-widgets/base",
            "_model_module_version": "1.2.0",
            "_model_name": "LayoutModel",
            "_view_count": null,
            "_view_module": "@jupyter-widgets/base",
            "_view_module_version": "1.2.0",
            "_view_name": "LayoutView",
            "align_content": null,
            "align_items": null,
            "align_self": null,
            "border": null,
            "bottom": null,
            "display": null,
            "flex": null,
            "flex_flow": null,
            "grid_area": null,
            "grid_auto_columns": null,
            "grid_auto_flow": null,
            "grid_auto_rows": null,
            "grid_column": null,
            "grid_gap": null,
            "grid_row": null,
            "grid_template_areas": null,
            "grid_template_columns": null,
            "grid_template_rows": null,
            "height": null,
            "justify_content": null,
            "justify_items": null,
            "left": null,
            "margin": null,
            "max_height": null,
            "max_width": null,
            "min_height": null,
            "min_width": null,
            "object_fit": null,
            "object_position": null,
            "order": null,
            "overflow": null,
            "overflow_x": null,
            "overflow_y": null,
            "padding": null,
            "right": null,
            "top": null,
            "visibility": null,
            "width": null
          }
        }
      }
    }
  },
  "cells": [
    {
      "cell_type": "markdown",
      "source": [
        "Podríamos usar este modelo para la clasificación: [BioBERT](https://huggingface.co/emilyalsentzer/Bio_ClinicalBERT)"
      ],
      "metadata": {
        "id": "GKoIYakRqC8T"
      }
    },
    {
      "cell_type": "markdown",
      "source": [
        "Clono repositorio para obtener mi datos y organizarlos"
      ],
      "metadata": {
        "id": "PVIICR5zIVHS"
      }
    },
    {
      "cell_type": "code",
      "execution_count": 2,
      "metadata": {
        "colab": {
          "base_uri": "https://localhost:8080/"
        },
        "id": "O7OC872JizLW",
        "outputId": "b9cc9167-5cea-430d-d82d-c41dd64d5ecb"
      },
      "outputs": [
        {
          "output_type": "stream",
          "name": "stdout",
          "text": [
            "fatal: destination path 'NUBes-negation-uncertainty-biomedical-corpus' already exists and is not an empty directory.\n"
          ]
        }
      ],
      "source": [
        "!git clone https://github.com/Vicomtech/NUBes-negation-uncertainty-biomedical-corpus.git"
      ]
    },
    {
      "cell_type": "markdown",
      "source": [
        "Instalo las dependencias que se van a utilizar"
      ],
      "metadata": {
        "id": "tdtsQLxajHVm"
      }
    },
    {
      "cell_type": "code",
      "source": [
        "%pip install openai -qqq argilla -qqq sentence-transformers==2.2.2 -qqq setfit==0.6.0 -qqq datasets ir-datasets"
      ],
      "metadata": {
        "id": "oHhfWzeFjLmE"
      },
      "execution_count": 3,
      "outputs": []
    },
    {
      "cell_type": "code",
      "source": [
        "import os\n",
        "from json import loads\n",
        "\n",
        "import openai\n",
        "\n",
        "from datasets import load_dataset\n",
        "from transformers import AutoTokenizer\n",
        "\n",
        "import pandas as pd\n",
        "\n",
        "from argilla.metrics.text_classification import f1\n",
        "from argilla.metrics.commons import text_length\n",
        "\n",
        "from setfit import get_templated_dataset\n",
        "from setfit import SetFitModel, SetFitTrainer\n",
        "\n",
        "from sentence_transformers import SentenceTransformer\n",
        "from sentence_transformers.losses import CosineSimilarityLoss"
      ],
      "metadata": {
        "id": "GEvHkwu6jUyl"
      },
      "execution_count": 4,
      "outputs": []
    },
    {
      "cell_type": "code",
      "source": [
        "import argilla as rg"
      ],
      "metadata": {
        "id": "jrLNPI0mjeua"
      },
      "execution_count": 5,
      "outputs": []
    },
    {
      "cell_type": "code",
      "source": [
        "rg.init(\n",
        "    api_url=\"https://dylanmontoya22-ner-biomedical-text.hf.space\",\n",
        "    api_key=\"team.apikey\"\n",
        ")"
      ],
      "metadata": {
        "id": "VlML0YjUmT3-"
      },
      "execution_count": 6,
      "outputs": []
    },
    {
      "cell_type": "code",
      "source": [
        "data_files = {\n",
        "    'train': '/content/NUBes-negation-uncertainty-biomedical-corpus/IULA+/negation_iac_1_corr.nubes.txt'\n",
        "}\n",
        "\n",
        "dataset = load_dataset('text', data_files=data_files)"
      ],
      "metadata": {
        "colab": {
          "base_uri": "https://localhost:8080/",
          "height": 86,
          "referenced_widgets": [
            "ef90e25d6d04489c89898b20c40a28d3",
            "d269f8d7a2684f8198278ba5944c1d14",
            "46d1705430c34a079f0407844402c6c1",
            "fca7f1e35abd450a8b6cd99532a0d718",
            "a34596d810f54cbe9fb66fae7c96d18b",
            "ef5692ed30064f48b9f65bd2c511b732",
            "9cd7a80710f54bc2b56e04cf8e291f2f",
            "67cb7f0ad780490a994a2165f7962807",
            "cc22fc3cdc8549ef87275417bf112d13",
            "a1ada21990a042c58eab13fc8a00f972",
            "2ba37ce59bc9478b87077f214c3afb8b"
          ]
        },
        "id": "_W6TUO6Fq_32",
        "outputId": "48d9bb50-b251-4a97-e202-e235da87e4ec"
      },
      "execution_count": 7,
      "outputs": [
        {
          "output_type": "stream",
          "name": "stderr",
          "text": [
            "WARNING:datasets.builder:Found cached dataset text (/root/.cache/huggingface/datasets/text/default-670698b41e3705d8/0.0.0/cb1e9bd71a82ad27976be3b12b407850fe2837d80c22c5e03a28949843a8ace2)\n"
          ]
        },
        {
          "output_type": "display_data",
          "data": {
            "text/plain": [
              "  0%|          | 0/1 [00:00<?, ?it/s]"
            ],
            "application/vnd.jupyter.widget-view+json": {
              "version_major": 2,
              "version_minor": 0,
              "model_id": "ef90e25d6d04489c89898b20c40a28d3"
            }
          },
          "metadata": {}
        }
      ]
    },
    {
      "cell_type": "code",
      "source": [
        "dataset['train']['text'][0:10]"
      ],
      "metadata": {
        "colab": {
          "base_uri": "https://localhost:8080/"
        },
        "id": "R3gWhYeArbKD",
        "outputId": "cc3314df-5122-4bbd-868f-86c2eb42980d"
      },
      "execution_count": 8,
      "outputs": [
        {
          "output_type": "execute_result",
          "data": {
            "text/plain": [
              "['Sutura 2.0 y cura tópica con povidona yodada.',\n",
              " 'Anodino.',\n",
              " 'Ictericia cutáneo-mucosa.',\n",
              " 'Sin contraindicaciones para el procedimiento.',\n",
              " 'Hipertenso.',\n",
              " '-',\n",
              " '- Laboratorio',\n",
              " 'Sedación farmacológica.',\n",
              " 'Pupilas isocóricas normorreactivas.',\n",
              " '-']"
            ]
          },
          "metadata": {},
          "execution_count": 8
        }
      ]
    },
    {
      "cell_type": "code",
      "source": [
        "%pip install \"flair~=0.11.0\" -qqq"
      ],
      "metadata": {
        "id": "NfiyeNhDr1Zb"
      },
      "execution_count": 9,
      "outputs": []
    },
    {
      "cell_type": "code",
      "source": [
        "from flair.models import TARSTagger\n",
        "from flair.data import Sentence"
      ],
      "metadata": {
        "id": "_cr88bQ_GTIo"
      },
      "execution_count": 10,
      "outputs": []
    },
    {
      "cell_type": "code",
      "source": [
        "# define labels\n",
        "labels = [\"signosintoma\", \"procedimiento\", \"anatomia\", \"problemaclinico\"]\n",
        "\n",
        "# load zero-shot NER tagger\n",
        "tars = TARSTagger.load(\"tars-ner\")\n",
        "\n",
        "# define labels for named entities using wnut labels\n",
        "tars.add_and_switch_to_new_task(\"task 1\", labels, label_type=\"ner\")"
      ],
      "metadata": {
        "colab": {
          "base_uri": "https://localhost:8080/"
        },
        "id": "BFFjRJzSGWpr",
        "outputId": "ed9aab58-e260-4d0e-e16e-49931df9cf43"
      },
      "execution_count": 11,
      "outputs": [
        {
          "output_type": "stream",
          "name": "stdout",
          "text": [
            "2023-03-26 04:52:27,124 loading file /root/.flair/models/tars-ner.pt\n",
            "2023-03-26 04:52:47,309 SequenceTagger predicts: Dictionary with 5 tags: O, S-entity, B-entity, E-entity, I-entity\n"
          ]
        }
      ]
    },
    {
      "cell_type": "code",
      "source": [
        "# wrap our tokens in a flair Sentence\n",
        "sentence = Sentence(\" \".join(dataset['train']['text']))\n",
        "\n",
        "# add predictions to our sentence\n",
        "tars.predict(sentence)\n",
        "\n",
        "# extract predicted entities into a list of tuples (entity, start_char, end_char)\n",
        "[\n",
        "    (entity.get_labels()[0].value, entity.start_position, entity.end_position)\n",
        "    for entity in sentence.get_spans(\"ner\")\n",
        "]"
      ],
      "metadata": {
        "colab": {
          "base_uri": "https://localhost:8080/"
        },
        "id": "y_SO-1sNGXoR",
        "outputId": "f766cfe7-1275-4fd0-a997-afc46dd64a5c"
      },
      "execution_count": 12,
      "outputs": [
        {
          "output_type": "execute_result",
          "data": {
            "text/plain": [
              "[]"
            ]
          },
          "metadata": {},
          "execution_count": 12
        }
      ]
    },
    {
      "cell_type": "code",
      "source": [
        "# build records for the first 100 examples\n",
        "records = []\n",
        "\n",
        "for record in dataset['train'].select(range(100)):\n",
        "    input_text = \" \".join(record['text'].split())\n",
        "\n",
        "    sentence = Sentence(input_text)\n",
        "    tars.predict(sentence)\n",
        "    prediction = [\n",
        "        (entity.get_labels()[0].value, entity.start_position, entity.end_position)\n",
        "        for entity in sentence.get_spans(\"ner\")\n",
        "    ]\n",
        "\n",
        "    # building TokenClassificationRecord\n",
        "    records.append(\n",
        "        rg.TokenClassificationRecord(\n",
        "            text=input_text,\n",
        "            tokens=[token.text for token in sentence],\n",
        "            prediction=prediction,\n",
        "            prediction_agent=\"tars-ner\",\n",
        "        )\n",
        "    )\n",
        "\n",
        "# log the records to Argilla\n",
        "rg.log(records, name=\"test_func_tokens_3\", metadata={\"split\": \"test\"})"
      ],
      "metadata": {
        "colab": {
          "base_uri": "https://localhost:8080/",
          "height": 68,
          "referenced_widgets": [
            "4fd8fd43403844f9947088c21f8de2f3",
            "0f83ec6b2dba4bbe81ad20274e0e6218"
          ]
        },
        "id": "Ncg6eqpDGao3",
        "outputId": "ca003ac8-ab51-46e6-895b-03624fe811a6"
      },
      "execution_count": 17,
      "outputs": [
        {
          "output_type": "display_data",
          "data": {
            "text/plain": [
              "Output()"
            ],
            "application/vnd.jupyter.widget-view+json": {
              "version_major": 2,
              "version_minor": 0,
              "model_id": "4fd8fd43403844f9947088c21f8de2f3"
            }
          },
          "metadata": {}
        },
        {
          "output_type": "display_data",
          "data": {
            "text/plain": [],
            "text/html": [
              "<pre style=\"white-space:pre;overflow-x:auto;line-height:normal;font-family:Menlo,'DejaVu Sans Mono',consolas,'Courier New',monospace\"></pre>\n"
            ]
          },
          "metadata": {}
        },
        {
          "output_type": "display_data",
          "data": {
            "text/plain": [
              "\n"
            ],
            "text/html": [
              "<pre style=\"white-space:pre;overflow-x:auto;line-height:normal;font-family:Menlo,'DejaVu Sans Mono',consolas,'Courier New',monospace\">\n",
              "</pre>\n"
            ]
          },
          "metadata": {}
        },
        {
          "output_type": "display_data",
          "data": {
            "text/plain": [
              "\u001b[1;36m100\u001b[0m records logged to \u001b]8;id=704777;https://dylanmontoya22-ner-biomedical-text.hf.space/datasets/team/test_func_tokens_3\u001b\\\u001b[4;94mhttps://dylanmontoya22-ner-biomedical-text.hf.space/datasets/team/test_func_tokens_3\u001b[0m\u001b]8;;\u001b\\\n"
            ],
            "text/html": [
              "<pre style=\"white-space:pre;overflow-x:auto;line-height:normal;font-family:Menlo,'DejaVu Sans Mono',consolas,'Courier New',monospace\"><span style=\"color: #008080; text-decoration-color: #008080; font-weight: bold\">100</span> records logged to <a href=\"https://dylanmontoya22-ner-biomedical-text.hf.space/datasets/team/test_func_tokens_3\" target=\"_blank\"><span style=\"color: #0000ff; text-decoration-color: #0000ff; text-decoration: underline\">https://dylanmontoya22-ner-biomedical-text.hf.space/datasets/team/test_func_tokens_3</span></a>\n",
              "</pre>\n"
            ]
          },
          "metadata": {}
        },
        {
          "output_type": "execute_result",
          "data": {
            "text/plain": [
              "BulkResponse(dataset='test_func_tokens_3', processed=100, failed=0)"
            ]
          },
          "metadata": {},
          "execution_count": 17
        }
      ]
    }
  ]
}